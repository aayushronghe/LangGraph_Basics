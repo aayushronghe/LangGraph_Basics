{
 "cells": [
  {
   "cell_type": "code",
   "execution_count": 46,
   "id": "db36c715",
   "metadata": {},
   "outputs": [],
   "source": [
    "from langgraph.graph import StateGraph,START,END\n",
    "from langgraph.types import Command,interrupt\n",
    "from typing import  TypedDict\n",
    "from langgraph.checkpoint.memory import MemorySaver"
   ]
  },
  {
   "cell_type": "code",
   "execution_count": 47,
   "id": "2bd158f2",
   "metadata": {},
   "outputs": [],
   "source": [
    "memory = MemorySaver()"
   ]
  },
  {
   "cell_type": "code",
   "execution_count": 48,
   "id": "397738c0",
   "metadata": {},
   "outputs": [],
   "source": [
    "class State(TypedDict):\n",
    "    value: str"
   ]
  },
  {
   "cell_type": "code",
   "execution_count": 58,
   "id": "d289fcdf",
   "metadata": {},
   "outputs": [],
   "source": [
    "def node_a(state: State):\n",
    "    print(\"Node A\")\n",
    "    return Command(\n",
    "        goto=\"node_b\",\n",
    "        update={\n",
    "            \"value\":state[\"value\"] + \"a\"\n",
    "        }\n",
    "    )"
   ]
  },
  {
   "cell_type": "code",
   "execution_count": 59,
   "id": "240c89b1",
   "metadata": {},
   "outputs": [],
   "source": [
    "def node_b(state: State):\n",
    "    print(\"node B\")\n",
    "\n",
    "    human_response = interrupt(\"Do you want to got to C or D? Type C/D\")\n",
    "    print(\"Human Review Values:\", human_response)\n",
    "\n",
    "    if(human_response==\"C\"):\n",
    "        return Command(\n",
    "        goto=\"node_c\",\n",
    "        update={\n",
    "            \"value\":state[\"value\"] + \"b\"\n",
    "        }\n",
    "    )\n",
    "\n",
    "    elif(human_response==\"D\"):\n",
    "        return Command(\n",
    "        goto=\"node_d\",\n",
    "        update={\n",
    "            \"value\":state[\"value\"] + \"b\"\n",
    "        }\n",
    "    )\n"
   ]
  },
  {
   "cell_type": "code",
   "execution_count": 60,
   "id": "cfa7fb07",
   "metadata": {},
   "outputs": [],
   "source": [
    "def node_c(state: State):\n",
    "    print(\"Node C\")\n",
    "    return Command(\n",
    "        goto=END,\n",
    "        update={\n",
    "            \"value\":state[\"value\"] + \"c\"\n",
    "        }\n",
    "    )\n",
    "\n",
    "def node_d(state: State):\n",
    "    print(\"Node D\")\n",
    "    return Command(\n",
    "        goto=END,\n",
    "        update={\n",
    "            \"value\":state[\"value\"] + \"d\"\n",
    "        }\n",
    "    )"
   ]
  },
  {
   "cell_type": "code",
   "execution_count": 61,
   "id": "a3896957",
   "metadata": {},
   "outputs": [],
   "source": [
    "graph = StateGraph(State)\n",
    "\n",
    "graph.add_node(\"node_a\",node_a)\n",
    "graph.set_entry_point(\"node_a\")\n",
    "graph.add_node(\"node_b\",node_b)\n",
    "graph.add_node(\"node_c\",node_c)\n",
    "graph.add_node(\"node_d\",node_d)\n",
    "\n",
    "app = graph.compile(checkpointer=memory)"
   ]
  },
  {
   "cell_type": "code",
   "execution_count": 62,
   "id": "ec0b876c",
   "metadata": {},
   "outputs": [],
   "source": [
    "config = {\"configurable\":{\n",
    "    \"thread_id\":\"1\"\n",
    "}}\n",
    "\n",
    "initialState = {\n",
    "    \"value\":\"\"\n",
    "}"
   ]
  },
  {
   "cell_type": "code",
   "execution_count": 63,
   "id": "428a11f4",
   "metadata": {},
   "outputs": [
    {
     "name": "stdout",
     "output_type": "stream",
     "text": [
      "Node A\n",
      "node B\n"
     ]
    },
    {
     "data": {
      "text/plain": [
       "[{'node_a': {'value': 'a'}},\n",
       " {'__interrupt__': (Interrupt(value='Do you want to got to C or D? Type C/D', resumable=True, ns=['node_b:42a25060-8109-2f3e-3cb3-44e93743a42d']),)}]"
      ]
     },
     "execution_count": 63,
     "metadata": {},
     "output_type": "execute_result"
    }
   ],
   "source": [
    "first_result = app.invoke(initialState,config=config,stream_mode=\"updates\")\n",
    "first_result"
   ]
  },
  {
   "cell_type": "code",
   "execution_count": 64,
   "id": "0411ef68",
   "metadata": {},
   "outputs": [
    {
     "name": "stdout",
     "output_type": "stream",
     "text": [
      "('node_b',)\n"
     ]
    }
   ],
   "source": [
    "print(app.get_state(config=config).next)"
   ]
  },
  {
   "cell_type": "code",
   "execution_count": 65,
   "id": "2fb7020a",
   "metadata": {},
   "outputs": [
    {
     "name": "stdout",
     "output_type": "stream",
     "text": [
      "node B\n",
      "Human Review Values: D\n",
      "Node D\n"
     ]
    }
   ],
   "source": [
    "second_result = app.invoke(Command(resume=\"D\"),config=config,stream_mode='updates')"
   ]
  },
  {
   "cell_type": "code",
   "execution_count": 66,
   "id": "749acfa8",
   "metadata": {},
   "outputs": [
    {
     "data": {
      "text/plain": [
       "[{'node_b': {'value': 'ab'}}, {'node_d': {'value': 'abd'}}]"
      ]
     },
     "execution_count": 66,
     "metadata": {},
     "output_type": "execute_result"
    }
   ],
   "source": [
    "second_result"
   ]
  }
 ],
 "metadata": {
  "kernelspec": {
   "display_name": "langchain",
   "language": "python",
   "name": "python3"
  },
  "language_info": {
   "codemirror_mode": {
    "name": "ipython",
    "version": 3
   },
   "file_extension": ".py",
   "mimetype": "text/x-python",
   "name": "python",
   "nbconvert_exporter": "python",
   "pygments_lexer": "ipython3",
   "version": "3.10.16"
  }
 },
 "nbformat": 4,
 "nbformat_minor": 5
}
