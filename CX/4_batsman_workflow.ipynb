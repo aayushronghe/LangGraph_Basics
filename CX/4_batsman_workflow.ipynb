{
 "cells": [
  {
   "cell_type": "code",
   "execution_count": null,
   "id": "2ff2bb77",
   "metadata": {},
   "outputs": [],
   "source": [
    "from langgraph.graph import StateGraph,START,END\n",
    "from typing import TypedDict"
   ]
  },
  {
   "cell_type": "code",
   "execution_count": 27,
   "id": "56cd1ff2",
   "metadata": {},
   "outputs": [],
   "source": [
    "class BatsmanState(TypedDict):\n",
    "    runs: int\n",
    "    balls: int\n",
    "    fours: int\n",
    "    sixes: int\n",
    "    sr:float\n",
    "    bpb: float\n",
    "    boundary_percent: float\n",
    "    summary: str"
   ]
  },
  {
   "cell_type": "code",
   "execution_count": 28,
   "id": "16ad4e05",
   "metadata": {},
   "outputs": [],
   "source": [
    "def calculate_sr(state: BatsmanState):\n",
    "    \"\"\"Function to calculate strike rate of batsman\"\"\"\n",
    "\n",
    "    runs = state['runs']\n",
    "    balls = state['balls']\n",
    "\n",
    "    sr = (runs/balls)*100\n",
    "\n",
    "    return {'sr':sr}"
   ]
  },
  {
   "cell_type": "code",
   "execution_count": 29,
   "id": "29688d5d",
   "metadata": {},
   "outputs": [],
   "source": [
    "def calculate_bpb(state: BatsmanState):\n",
    "    \"\"\"Function to calculate balls per boundary\"\"\"\n",
    "\n",
    "    balls = state['balls']\n",
    "    boundaries = state['fours'] + state['sixes']\n",
    "\n",
    "    bpb = balls/boundaries\n",
    "\n",
    "    state['bpb'] = bpb\n",
    "\n",
    "    return {'bpb':bpb}"
   ]
  },
  {
   "cell_type": "code",
   "execution_count": 38,
   "id": "9bb49153",
   "metadata": {},
   "outputs": [],
   "source": [
    "def calculate_boundary_percent(state: BatsmanState):\n",
    "    \"\"\"Function to calculate the boundary percentage\"\"\"\n",
    "\n",
    "    runs = state['runs']\n",
    "    runs_sixes = state['sixes'] * 6\n",
    "    runs_fours = state['fours'] * 4\n",
    "\n",
    "    boundary_percent = ((runs_fours + runs_sixes)/runs)*100\n",
    "\n",
    "    state['boundary_percent'] = boundary_percent\n",
    "    \n",
    "    return {'boundary_percent':boundary_percent}"
   ]
  },
  {
   "cell_type": "code",
   "execution_count": 39,
   "id": "f1293af9",
   "metadata": {},
   "outputs": [],
   "source": [
    "def create_summary(state: BatsmanState):\n",
    "    \"\"\"Function to display summary\"\"\"\n",
    "\n",
    "    summary = f\"\"\"\n",
    "    Strike Rate = {state['sr']} \\n\n",
    "    Balls per boundary = {state['bpb']} \\n\n",
    "    Boundary percentage = {state['boundary_percent']}\n",
    "\"\"\"\n",
    "    \n",
    "    state['summary'] = summary\n",
    "\n",
    "    return {'summary':summary}\n"
   ]
  },
  {
   "cell_type": "code",
   "execution_count": 40,
   "id": "ba2128ce",
   "metadata": {},
   "outputs": [],
   "source": [
    "graph = StateGraph(BatsmanState)\n",
    "\n",
    "graph.add_node('calculate_sr',calculate_sr)\n",
    "graph.add_node('calculate_bpb',calculate_bpb)\n",
    "graph.add_node('calculate_boundary_percent',calculate_boundary_percent)\n",
    "graph.add_node('create_summary',create_summary)\n",
    "\n",
    "graph.set_entry_point('calculate_sr')\n",
    "graph.set_entry_point('calculate_bpb')\n",
    "graph.set_entry_point('calculate_boundary_percent')\n",
    "\n",
    "graph.add_edge('calculate_sr','create_summary')\n",
    "graph.add_edge('calculate_bpb','create_summary')\n",
    "graph.add_edge('calculate_boundary_percent','create_summary')\n",
    "\n",
    "graph.set_finish_point('create_summary')\n",
    "\n",
    "app = graph.compile()"
   ]
  },
  {
   "cell_type": "code",
   "execution_count": 41,
   "id": "37130406",
   "metadata": {},
   "outputs": [],
   "source": [
    "initial_state = {\n",
    "    'runs': 126,\n",
    "    'balls': 50,\n",
    "    'fours': 8,\n",
    "    'sixes': 5 \n",
    "}\n",
    "\n",
    "result = app.invoke(initial_state)"
   ]
  },
  {
   "cell_type": "code",
   "execution_count": 43,
   "id": "a4364388",
   "metadata": {},
   "outputs": [
    {
     "name": "stdout",
     "output_type": "stream",
     "text": [
      "\n",
      "    Strike Rate = 252.0 \n",
      "\n",
      "    Balls per boundary = 3.8461538461538463 \n",
      "\n",
      "    Boundary percentage = 49.2063492063492\n",
      "\n"
     ]
    }
   ],
   "source": [
    "print(result['summary'])"
   ]
  },
  {
   "cell_type": "code",
   "execution_count": null,
   "id": "d8e5e0ca",
   "metadata": {},
   "outputs": [],
   "source": []
  }
 ],
 "metadata": {
  "kernelspec": {
   "display_name": "langchain",
   "language": "python",
   "name": "python3"
  },
  "language_info": {
   "codemirror_mode": {
    "name": "ipython",
    "version": 3
   },
   "file_extension": ".py",
   "mimetype": "text/x-python",
   "name": "python",
   "nbconvert_exporter": "python",
   "pygments_lexer": "ipython3",
   "version": "3.10.16"
  }
 },
 "nbformat": 4,
 "nbformat_minor": 5
}
