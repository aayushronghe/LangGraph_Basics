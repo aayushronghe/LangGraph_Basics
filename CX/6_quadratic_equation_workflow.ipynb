{
 "cells": [
  {
   "cell_type": "code",
   "execution_count": 2,
   "id": "9d46f9c1",
   "metadata": {},
   "outputs": [],
   "source": [
    "from langgraph.graph import StateGraph\n",
    "from typing import TypedDict, Literal"
   ]
  },
  {
   "cell_type": "code",
   "execution_count": 18,
   "id": "f021f810",
   "metadata": {},
   "outputs": [],
   "source": [
    "class QuadState(TypedDict):\n",
    "    a: int\n",
    "    b: int\n",
    "    c: int\n",
    "    equation: str\n",
    "    discriminant: float\n",
    "    result: str"
   ]
  },
  {
   "cell_type": "code",
   "execution_count": 19,
   "id": "b4c9179a",
   "metadata": {},
   "outputs": [],
   "source": [
    "def show_equation(state: QuadState):\n",
    "    a = state['a']\n",
    "    b = state['b']\n",
    "    c = state['c']\n",
    "\n",
    "    equation = f'{a}x² + {b}x + {c}'\n",
    "\n",
    "    print(equation)\n",
    "\n",
    "    return{\n",
    "        'equation': equation\n",
    "    }"
   ]
  },
  {
   "cell_type": "code",
   "execution_count": 20,
   "id": "f5e2eba3",
   "metadata": {},
   "outputs": [],
   "source": [
    "def calculate_d(state: QuadState):\n",
    "    a = state['a']\n",
    "    b = state['b']\n",
    "    c = state['c']\n",
    "\n",
    "    discriminant = b**2 - 4*a*c\n",
    "\n",
    "    return{\n",
    "        'discriminant':discriminant\n",
    "    }\n"
   ]
  },
  {
   "cell_type": "code",
   "execution_count": 37,
   "id": "08cf2a46",
   "metadata": {},
   "outputs": [],
   "source": [
    "def two_distinct_real_roots(state: QuadState):\n",
    "    a = state['a']\n",
    "    b = state['b']\n",
    "    c = state['c']\n",
    "    discriminant = state['discriminant']\n",
    "\n",
    "    root1 = (-b + (discriminant**-2))/(2*a)\n",
    "    root2 = (-b - (discriminant**-2))/(2*a)\n",
    "\n",
    "    return{\n",
    "        'result':f\"\"\"Roots are {root1} and {root2}\"\"\"\n",
    "    }"
   ]
  },
  {
   "cell_type": "code",
   "execution_count": 38,
   "id": "e735d754",
   "metadata": {},
   "outputs": [],
   "source": [
    "def repeated_real_roots(state: QuadState):\n",
    "    a = state['a']\n",
    "    b = state['b']\n",
    "    c = state['c']\n",
    "    discriminant = state['discriminant']\n",
    "\n",
    "    root = (-b)/(2*a)\n",
    "\n",
    "    return{\n",
    "        'result':f\"\"\"Only reapeting root: {root}\"\"\"\n",
    "    }"
   ]
  },
  {
   "cell_type": "code",
   "execution_count": 39,
   "id": "72ff657b",
   "metadata": {},
   "outputs": [],
   "source": [
    "def no_real_roots(state: QuadState):\n",
    "    return{\n",
    "        'result':\"No real roots\"\n",
    "    }"
   ]
  },
  {
   "cell_type": "code",
   "execution_count": 40,
   "id": "c3361b0e",
   "metadata": {},
   "outputs": [],
   "source": [
    "def check_condition(state: QuadState) -> Literal['no_real_roots','two_distinct_real_roots','repeated_real_roots']:\n",
    "\n",
    "    discriminant = state['discriminant']\n",
    "\n",
    "    if discriminant>0:\n",
    "        return 'two_distinct_real_roots'\n",
    "\n",
    "    elif discriminant==0:\n",
    "        return 'repeated_real_roots'\n",
    "    \n",
    "    else:\n",
    "        return 'no_real_roots'"
   ]
  },
  {
   "cell_type": "code",
   "execution_count": 41,
   "id": "432d4408",
   "metadata": {},
   "outputs": [],
   "source": [
    "graph = StateGraph(QuadState)\n",
    "\n",
    "graph.add_node('show_equation',show_equation)\n",
    "graph.add_node('no_real_roots',no_real_roots)\n",
    "graph.add_node('two_distinct_real_roots',two_distinct_real_roots)\n",
    "graph.add_node('repeated_real_roots',repeated_real_roots)\n",
    "graph.add_node('calculate_d',calculate_d)\n",
    "\n",
    "graph.set_entry_point('show_equation')\n",
    "graph.add_edge('show_equation','calculate_d')\n",
    "graph.add_conditional_edges('calculate_d',check_condition)\n",
    "graph.set_finish_point('two_distinct_real_roots')\n",
    "graph.set_finish_point('repeated_real_roots')\n",
    "graph.set_finish_point('no_real_roots')\n",
    "\n",
    "app = graph.compile()\n",
    "\n"
   ]
  },
  {
   "cell_type": "code",
   "execution_count": 45,
   "id": "7713ba13",
   "metadata": {},
   "outputs": [
    {
     "name": "stdout",
     "output_type": "stream",
     "text": [
      "1x² + -4x + 4\n"
     ]
    },
    {
     "data": {
      "text/plain": [
       "{'a': 1,\n",
       " 'b': -4,\n",
       " 'c': 4,\n",
       " 'equation': '1x² + -4x + 4',\n",
       " 'discriminant': 0,\n",
       " 'result': 'Only reapeting root: 2.0'}"
      ]
     },
     "execution_count": 45,
     "metadata": {},
     "output_type": "execute_result"
    }
   ],
   "source": [
    "initial_state = {\n",
    "    'a':1,\n",
    "    'b':-4,\n",
    "    'c': 4\n",
    "}\n",
    "\n",
    "app.invoke(initial_state)"
   ]
  },
  {
   "cell_type": "code",
   "execution_count": null,
   "id": "46100880",
   "metadata": {},
   "outputs": [],
   "source": []
  }
 ],
 "metadata": {
  "kernelspec": {
   "display_name": "langchain",
   "language": "python",
   "name": "python3"
  },
  "language_info": {
   "codemirror_mode": {
    "name": "ipython",
    "version": 3
   },
   "file_extension": ".py",
   "mimetype": "text/x-python",
   "name": "python",
   "nbconvert_exporter": "python",
   "pygments_lexer": "ipython3",
   "version": "3.10.16"
  }
 },
 "nbformat": 4,
 "nbformat_minor": 5
}
