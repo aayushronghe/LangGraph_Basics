{
 "cells": [
  {
   "cell_type": "code",
   "execution_count": 1,
   "id": "b420429a",
   "metadata": {},
   "outputs": [],
   "source": [
    "import os\n",
    "from dotenv import load_dotenv\n",
    "\n",
    "from langgraph.graph import StateGraph, START,END\n",
    "from langchain_openai import ChatOpenAI\n",
    "from typing import TypedDict"
   ]
  },
  {
   "cell_type": "code",
   "execution_count": 2,
   "id": "4080e6e5",
   "metadata": {},
   "outputs": [
    {
     "data": {
      "text/plain": [
       "True"
      ]
     },
     "execution_count": 2,
     "metadata": {},
     "output_type": "execute_result"
    }
   ],
   "source": [
    "load_dotenv()"
   ]
  },
  {
   "cell_type": "code",
   "execution_count": 3,
   "id": "e1599a47",
   "metadata": {},
   "outputs": [],
   "source": [
    "model = ChatOpenAI(api_key=os.getenv('OPEN_AI_API_KEY'))"
   ]
  },
  {
   "cell_type": "code",
   "execution_count": 4,
   "id": "d433d871",
   "metadata": {},
   "outputs": [],
   "source": [
    "class BlogState(TypedDict):\n",
    "    title: str\n",
    "    outline: str\n",
    "    content: str"
   ]
  },
  {
   "cell_type": "code",
   "execution_count": 32,
   "id": "9508188b",
   "metadata": {},
   "outputs": [],
   "source": [
    "def create_outline(state: BlogState) -> BlogState:\n",
    "    \"\"\"Function to create outlint of a given topic\"\"\"\n",
    "\n",
    "    topic = state['title']\n",
    "    prompt = f\"Generate an outline for a blog on the following topic: {topic}\"\n",
    "    outline = model.invoke(prompt).content\n",
    "\n",
    "    state['outline'] = outline\n",
    "\n",
    "    return state"
   ]
  },
  {
   "cell_type": "code",
   "execution_count": 33,
   "id": "18cc0430",
   "metadata": {},
   "outputs": [],
   "source": [
    "def create_blog(state: BlogState) -> BlogState:\n",
    "    \"\"\"Function to generate blog using the topic and outline generated\"\"\"\n",
    "\n",
    "    topic = state['title']\n",
    "    outline = state['outline']\n",
    "    prompt = f\"Generate a blog on the topic {topic} using the following outline \\n {outline}\"\n",
    "    content = model.invoke(prompt).content\n",
    "\n",
    "    state['content'] = content\n",
    "\n",
    "    return state"
   ]
  },
  {
   "cell_type": "code",
   "execution_count": 34,
   "id": "82460310",
   "metadata": {},
   "outputs": [],
   "source": [
    "graph = StateGraph(BlogState)\n",
    "\n",
    "graph.add_node('create_outline',create_outline)\n",
    "graph.add_node('create_blog',create_blog)\n",
    "\n",
    "graph.set_entry_point('create_outline')\n",
    "\n",
    "graph.add_edge('create_outline','create_blog')\n",
    "graph.set_finish_point('create_blog')\n",
    "\n",
    "app = graph.compile()"
   ]
  },
  {
   "cell_type": "code",
   "execution_count": 35,
   "id": "e53f1e79",
   "metadata": {},
   "outputs": [],
   "source": [
    "initial_state = {\n",
    "    'title':'Future of AI in India'\n",
    "}\n",
    "\n",
    "result = app.invoke(initial_state)"
   ]
  },
  {
   "cell_type": "code",
   "execution_count": 36,
   "id": "a81f25ed",
   "metadata": {},
   "outputs": [
    {
     "name": "stdout",
     "output_type": "stream",
     "text": [
      "I. Introduction\n",
      "    A. Definition and significance of AI\n",
      "    B. Overview of the current status of AI in India\n",
      "II. Growth potential of AI in India\n",
      "    A. Factors driving the growth of AI in India\n",
      "    B. Opportunities and challenges for AI development in India\n",
      "III. Impact of AI on the Indian economy and society\n",
      "    A. Employment trends in the age of AI\n",
      "    B. Benefits and risks of AI adoption in various sectors\n",
      "IV. Government initiatives and policies promoting AI development in India\n",
      "    A. National AI strategy and initiatives\n",
      "    B. Collaboration between government, industry, and academia\n",
      "V. Key players and trends in the Indian AI industry\n",
      "    A. Leading AI companies and startups in India\n",
      "    B. Emerging trends shaping the future of AI in India\n",
      "VI. Potential ethical and societal implications of AI in India\n",
      "    A. Privacy concerns and data security issues\n",
      "    B. Ethical considerations in AI development and deployment\n",
      "VII. Conclusion \n",
      "    A. Summary of key points \n",
      "    B. Predictions for the future of AI in India and global implications.\n"
     ]
    }
   ],
   "source": [
    "print(result['outline'])"
   ]
  },
  {
   "cell_type": "code",
   "execution_count": 37,
   "id": "86714fe8",
   "metadata": {},
   "outputs": [
    {
     "name": "stdout",
     "output_type": "stream",
     "text": [
      "The Future of AI in India\n",
      "\n",
      "I. Introduction\n",
      "\n",
      "A. Artificial Intelligence (AI) refers to the simulation of human intelligence processes by machines, particularly computer systems. It holds immense significance in today's world as it has the potential to revolutionize various industries and improve efficiency and accuracy in decision-making processes.\n",
      "\n",
      "B. The current status of AI in India is promising as the country has shown great interest and potential in AI development. With the rapid growth of technology adoption and digitalization in various sectors, AI is becoming increasingly important in India's tech landscape.\n",
      "\n",
      "II. Growth potential of AI in India\n",
      "\n",
      "A. Factors driving the growth of AI in India include the availability of a large talent pool of skilled professionals in the technology sector, increasing government support for innovation and technology development, and a growing demand for AI-driven solutions in various industries.\n",
      "\n",
      "B. Opportunities for AI development in India include applications in healthcare, agriculture, finance, and e-commerce. However, challenges such as data privacy concerns, regulatory issues, and lack of proper infrastructure for AI deployment need to be addressed for sustainable growth of AI in India.\n",
      "\n",
      "III. Impact of AI on the Indian economy and society\n",
      "\n",
      "A. The adoption of AI in India is expected to bring significant changes in employment trends, with the creation of new job roles and the automation of routine tasks. There is a need for upskilling and reskilling of the workforce to adapt to the changes brought by AI.\n",
      "\n",
      "B. AI adoption in various sectors such as healthcare, agriculture, transportation, and finance is expected to bring benefits such as improved efficiency, cost savings, and better decision-making. However, there are risks associated with AI adoption, such as job displacement and bias in algorithms.\n",
      "\n",
      "IV. Government initiatives and policies promoting AI development in India\n",
      "\n",
      "A. The Indian government has introduced a National AI Strategy and various initiatives to promote AI research and development in the country. Collaboration between the government, industry, and academia is key to fostering innovation and growth in the AI sector.\n",
      "\n",
      "B. Programs such as the Digital India initiative, Atal Innovation Mission, and Startup India are aimed at supporting AI startups and promoting entrepreneurship in the technology sector.\n",
      "\n",
      "V. Key players and trends in the Indian AI industry\n",
      "\n",
      "A. Leading AI companies and startups in India include Wipro, TCS, Infosys, and startups like Niki.AI, Haptik, and Mad Street Den. The Indian AI industry is witnessing emerging trends such as the proliferation of AI-driven chatbots, predictive analytics, and advanced robotics in various sectors.\n",
      "\n",
      "B. Future trends shaping the AI industry in India include the integration of AI with IoT, cloud computing, and blockchain technologies, as well as the development of AI solutions for personalized healthcare, smart cities, and autonomous vehicles.\n",
      "\n",
      "VI. Potential ethical and societal implications of AI in India\n",
      "\n",
      "A. Privacy concerns and data security issues are a major ethical challenge in AI development and deployment. There is a need for regulations and guidelines to protect user data and ensure ethical use of AI technologies.\n",
      "\n",
      "B. Ethical considerations in AI development include transparency in algorithms, fairness in decision-making, and accountability for AI systems. It is important for developers and policymakers to address these ethical implications to ensure responsible AI deployment.\n",
      "\n",
      "VII. Conclusion\n",
      "\n",
      "A. In conclusion, the future of AI in India looks promising with the country's growing interest and potential in AI development. By addressing challenges and harnessing opportunities, India can emerge as a global leader in AI innovation.\n",
      "\n",
      "B. Predictions for the future of AI in India include increased adoption of AI technologies across various sectors, the rise of AI-driven startups and innovations, and the need for a balanced approach to address ethical and societal implications. The impact of AI in India will not only transform the country's economy and society but also have global implications in the AI landscape.\n"
     ]
    }
   ],
   "source": [
    "print(result['content'])"
   ]
  }
 ],
 "metadata": {
  "kernelspec": {
   "display_name": "langchain",
   "language": "python",
   "name": "python3"
  },
  "language_info": {
   "codemirror_mode": {
    "name": "ipython",
    "version": 3
   },
   "file_extension": ".py",
   "mimetype": "text/x-python",
   "name": "python",
   "nbconvert_exporter": "python",
   "pygments_lexer": "ipython3",
   "version": "3.10.16"
  }
 },
 "nbformat": 4,
 "nbformat_minor": 5
}
