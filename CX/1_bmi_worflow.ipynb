{
 "cells": [
  {
   "cell_type": "code",
   "execution_count": 13,
   "id": "36e9b970",
   "metadata": {},
   "outputs": [],
   "source": [
    "from langgraph.graph import StateGraph,START,END\n",
    "from typing import TypedDict"
   ]
  },
  {
   "cell_type": "code",
   "execution_count": 31,
   "id": "db21531d",
   "metadata": {},
   "outputs": [],
   "source": [
    "#define state\n",
    "\n",
    "class BMIState(TypedDict):\n",
    "    weight_kg: float\n",
    "    height_m: float\n",
    "    bmi: float\n",
    "    category: str"
   ]
  },
  {
   "cell_type": "code",
   "execution_count": 32,
   "id": "7332af64",
   "metadata": {},
   "outputs": [],
   "source": [
    "def calculate_bmi(state: BMIState) -> BMIState:\n",
    "\n",
    "    weight = state['weight_kg']\n",
    "    height = state['height_m']\n",
    "\n",
    "    bmi = weight/(height**2)\n",
    "\n",
    "    state['bmi'] = round(bmi,2)\n",
    "\n",
    "    return state\n",
    "\n",
    "def categorise(state: BMIState) -> BMIState:\n",
    "    bmi = state['bmi']\n",
    "\n",
    "    if bmi<18.5:\n",
    "        state['category'] = \"Underweight\"\n",
    "    elif 18.5<=bmi<=24.99:\n",
    "        state['category'] = 'Normal'\n",
    "    elif 25<=bmi<=29.99:\n",
    "        state['category'] = 'Overweight'\n",
    "    else:\n",
    "        state['category'] = 'Obese'\n",
    "\n",
    "    return state"
   ]
  },
  {
   "cell_type": "code",
   "execution_count": 33,
   "id": "e2c47218",
   "metadata": {},
   "outputs": [],
   "source": [
    "#define graph\n",
    "\n",
    "graph = StateGraph(BMIState)\n",
    "\n",
    "#add nodes\n",
    "\n",
    "graph.add_node('calculate_bmi',calculate_bmi)\n",
    "graph.add_node('categorise',categorise)\n",
    "\n",
    "#add edges\n",
    "\n",
    "graph.set_entry_point('calculate_bmi')\n",
    "graph.add_edge('calculate_bmi','categorise')\n",
    "graph.add_edge('categorise',END)\n",
    "\n",
    "#compile\n",
    "\n",
    "app = graph.compile()\n"
   ]
  },
  {
   "cell_type": "code",
   "execution_count": 47,
   "id": "b080a5b3",
   "metadata": {},
   "outputs": [],
   "source": [
    "#execute\n",
    "\n",
    "result = app.invoke({\n",
    "    'weight_kg': 78,\n",
    "    'height_m':1.77\n",
    "})"
   ]
  },
  {
   "cell_type": "code",
   "execution_count": 48,
   "id": "c1fa55bc",
   "metadata": {},
   "outputs": [
    {
     "data": {
      "text/plain": [
       "'Normal'"
      ]
     },
     "execution_count": 48,
     "metadata": {},
     "output_type": "execute_result"
    }
   ],
   "source": [
    "result['category']"
   ]
  },
  {
   "cell_type": "code",
   "execution_count": 49,
   "id": "48336887",
   "metadata": {},
   "outputs": [
    {
     "data": {
      "image/png": "[encoded data removed]",
      "text/plain": [
       "<IPython.core.display.Image object>"
      ]
     },
     "execution_count": 49,
     "metadata": {},
     "output_type": "execute_result"
    }
   ],
   "source": [
    "from IPython.display import Image\n",
    "Image(app.get_graph().draw_mermaid_png())"
   ]
  }
 ],
 "metadata": {
  "kernelspec": {
   "display_name": "langchain",
   "language": "python",
   "name": "python3"
  },
  "language_info": {
   "codemirror_mode": {
    "name": "ipython",
    "version": 3
   },
   "file_extension": ".py",
   "mimetype": "text/x-python",
   "name": "python",
   "nbconvert_exporter": "python",
   "pygments_lexer": "ipython3",
   "version": "3.10.16"
  }
 },
 "nbformat": 4,
 "nbformat_minor": 5
}
