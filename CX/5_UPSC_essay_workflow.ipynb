{
 "cells": [
  {
   "cell_type": "code",
   "execution_count": 10,
   "id": "229ce57c",
   "metadata": {},
   "outputs": [],
   "source": [
    "import os\n",
    "from dotenv import load_dotenv\n",
    "\n",
    "from langgraph.graph import StateGraph, START,END\n",
    "from langchain_openai import ChatOpenAI\n",
    "from typing import TypedDict, Annotated\n",
    "from pydantic import BaseModel,Field\n",
    "import operator"
   ]
  },
  {
   "cell_type": "code",
   "execution_count": 5,
   "id": "b87bc096",
   "metadata": {},
   "outputs": [
    {
     "data": {
      "text/plain": [
       "True"
      ]
     },
     "execution_count": 5,
     "metadata": {},
     "output_type": "execute_result"
    }
   ],
   "source": [
    "load_dotenv()"
   ]
  },
  {
   "cell_type": "code",
   "execution_count": 6,
   "id": "3d857354",
   "metadata": {},
   "outputs": [],
   "source": [
    "model = ChatOpenAI(api_key=os.getenv('OPEN_AI_API_KEY'))"
   ]
  },
  {
   "cell_type": "code",
   "execution_count": 7,
   "id": "f200b5bf",
   "metadata": {},
   "outputs": [],
   "source": [
    "class EvaluationSchema(BaseModel):\n",
    "    feedback: str = Field(description = 'Detailed feedback for the essay')\n",
    "    score: int = Field(description = 'Score out of 10',ge=0,le=10)"
   ]
  },
  {
   "cell_type": "code",
   "execution_count": 8,
   "id": "935802ea",
   "metadata": {},
   "outputs": [
    {
     "name": "stderr",
     "output_type": "stream",
     "text": [
      "c:\\Users\\ZXGAMING\\miniconda3\\envs\\langchain\\lib\\site-packages\\langchain_openai\\chat_models\\base.py:1673: UserWarning: Cannot use method='json_schema' with model gpt-3.5-turbo since it doesn't support OpenAI's Structured Output API. You can see supported models here: https://platform.openai.com/docs/guides/structured-outputs#supported-models. To fix this warning, set `method='function_calling'. Overriding to method='function_calling'.\n",
      "  warnings.warn(\n"
     ]
    }
   ],
   "source": [
    "structured_model = model.with_structured_output(EvaluationSchema)"
   ]
  },
  {
   "cell_type": "code",
   "execution_count": 26,
   "id": "0f290a68",
   "metadata": {},
   "outputs": [],
   "source": [
    "class UPSCState(TypedDict):\n",
    "    essay: str\n",
    "    language_feedback: str\n",
    "    analysis_feedback: str\n",
    "    clarity_feedback: str\n",
    "    overall_feedback: str\n",
    "    individual_scores: Annotated[list[int],operator.add]\n",
    "    avg_score: float\n"
   ]
  },
  {
   "cell_type": "code",
   "execution_count": 27,
   "id": "9554d42f",
   "metadata": {},
   "outputs": [],
   "source": [
    "def evaluate_language(state: UPSCState):\n",
    "\n",
    "    essay = state['essay']\n",
    "\n",
    "    prompt = f'Evaluate the language quality of the following essay and provide a feedback and assign a score out of 10 \\n {essay} '\n",
    "\n",
    "    result = structured_model.invoke(prompt)\n",
    "\n",
    "    return{\n",
    "        'language_feedback': result.feedback,\n",
    "        'individual_scores': [result.score]\n",
    "    }"
   ]
  },
  {
   "cell_type": "code",
   "execution_count": 28,
   "id": "3a2a99ae",
   "metadata": {},
   "outputs": [],
   "source": [
    "def evaluate_analysis(state: UPSCState):\n",
    "\n",
    "    essay = state['essay']\n",
    "\n",
    "    prompt = f'Evaluate the depth of analysis of the following essay and provide a feedback and assign a score out of 10 \\n {essay} '\n",
    "\n",
    "    result = structured_model.invoke(prompt)\n",
    "\n",
    "    return{\n",
    "        'analysis_feedback': result.feedback,\n",
    "        'individual_scores': [result.score]\n",
    "    }"
   ]
  },
  {
   "cell_type": "code",
   "execution_count": 29,
   "id": "50fb55ee",
   "metadata": {},
   "outputs": [],
   "source": [
    "def evaluate_thought(state: UPSCState):\n",
    "\n",
    "    essay = state['essay']\n",
    "\n",
    "    prompt = f'Evaluate the clarity of thought of the following essay and provide a feedback and assign a score out of 10 \\n {essay} '\n",
    "\n",
    "    result = structured_model.invoke(prompt)\n",
    "\n",
    "    return{\n",
    "        'clarity_feedback': result.feedback,\n",
    "        'individual_scores': [result.score]\n",
    "    }"
   ]
  },
  {
   "cell_type": "code",
   "execution_count": 30,
   "id": "96fb2f98",
   "metadata": {},
   "outputs": [],
   "source": [
    "def final_evaluation(state: UPSCState):\n",
    "    prompt = f\"\"\"Based upon the following feedbacks, generate a summarized feedback \\n language feedback - {state['language_feedback']} \\n depth of analysis feedback - {state['analysis_feedback']} \\n clarity of thought feedback - {state['clarity_feedback']}\"\"\"\n",
    "\n",
    "    overall_feedback = model.invoke(prompt).content\n",
    "\n",
    "    avg_score = sum(state['individual_scores'])/len(state['individual_scores'])\n",
    "\n",
    "    return{\n",
    "        'overall_feedback': overall_feedback,\n",
    "        'avg_score': avg_score\n",
    "    }\n"
   ]
  },
  {
   "cell_type": "code",
   "execution_count": 31,
   "id": "6e7f3db2",
   "metadata": {},
   "outputs": [],
   "source": [
    "graph = StateGraph(UPSCState)\n",
    "\n",
    "graph.add_node('evaluate_language',evaluate_language)\n",
    "graph.add_node('evaluate_analysis',evaluate_analysis)\n",
    "graph.add_node('evaluate_thought',evaluate_thought)\n",
    "graph.add_node('final_evaluation',final_evaluation)\n",
    "\n",
    "graph.set_entry_point('evaluate_language')\n",
    "graph.set_entry_point('evaluate_analysis')\n",
    "graph.set_entry_point('evaluate_thought')\n",
    "\n",
    "graph.add_edge('evaluate_language','final_evaluation')\n",
    "graph.add_edge('evaluate_analysis','final_evaluation')\n",
    "graph.add_edge('evaluate_thought','final_evaluation')\n",
    "\n",
    "graph.set_finish_point('final_evaluation')\n",
    "\n",
    "app = graph.compile()"
   ]
  },
  {
   "cell_type": "code",
   "execution_count": 38,
   "id": "9e2c55ca",
   "metadata": {},
   "outputs": [
    {
     "data": {
      "text/plain": [
       "{'essay': '\\nIntraduction\\nTranzfarmers was invented in 2001 by Albert Einstein to make robot talks better and eat datas faster. Before this, people use fax machines and calculators to translate languages, which was super slow and boring. Then tranzfarmers came and said, \"Let me do it all at once, no waiting.\"\\n\\nBackgrounnd\\nOld AI models like LSTM, CNN, and ATM machines was used before, but they was very slow because they only read left to right or sometimes upside-down. They forget stuff after 3 seconds and need batteries. Tranzfarmers fix all that by not reading anything and just guessing smartly.\\n\\nHow Tranzfarmers Work (Kinda)\\n1. Self Distraction\\nTranzfarmers use \"self-distraction\" where they ignore most of the sentence and just look at whatever word they like most. This is how humans also think, so it\\'s very advanced.\\n\\n2. Postional Exploding\\nSince tranzfarmers can’t count, they use postional exploding to remember where words are in a sentence by assigning them random numbers and colors.\\n\\n3. Decoder-Retweeter Model\\nThe system has 3 decoders and no encoders. Decoder reads the sentence backwards, then tweets it again using AI slang.\\n\\nAdvantages of Tranzfarmers\\nIt can do 1 billion things in 1 second, even while sleeping.\\n\\nIt needs only 2MB RAM to train, and can run on a microwave.\\n\\nIt understands sarcasm better than your friend.\\n\\nIt works best when the internet is off.\\n\\nReal Uses of Tranzfarmers\\nUsed in Facebook to translate emojis into tax reports.\\n\\nUsed in hospitals to write prescriptions in Shakespearean English.\\n\\nCan make poems about bananas that win Nobel Prizes.\\n\\nTells your crush you love them, in binary.\\n\\nFamouse Tranzfarmer Models\\nBURT: It reads both front and back at the same time, like an owl.\\n\\nGPT-0: The first one made in 1920. It can only say “hello”.\\n\\nVision Tranzfarmer: It looks at pictures and guesses what\\'s behind them.\\n\\nBad Stuff About It\\nSometimes it explodes your laptop if you ask too many questions.\\n\\nIt eats 400 gigawatts of electricity to say “Hi”.\\n\\nIt dreams about cats even if you never showed it one.\\n\\nMakes grammar worse in schools.\\n\\nThe Futur\\nIn future, Tranzfarmers will replace teachers, friends, and probably pizza delivery. They will talk to aliens and run the government while also DJ-ing at weddings.\\n\\nConclusione\\nTranzfarmers are the most best thing ever made by humans and dolphins. They don\\'t need training, they just download intelligence from the sky. Everyone should use them to write essays, do taxes, and fix plumbing.\\n\\n',\n",
       " 'language_feedback': 'The essay contains multiple spelling and grammatical errors, including misspelled words, incorrect usage of punctuation, and fragmented sentences. The content is creative and entertaining but lacks coherence and clarity in conveying information about Tranzfarmers. The structure of the essay could be improved to make the points more organized and easier to follow.',\n",
       " 'analysis_feedback': 'The essay provides a humorous and imaginative overview of Tranzfarmers, highlighting their unique characteristics and functionalities. The depth of analysis, however, is limited as it focuses more on the quirky aspects of Tranzfarmers rather than delving into technical details or discussing potential implications. The essay could benefit from a more balanced approach that explores both the advantages and limitations of Tranzfarmers in more detail.',\n",
       " 'clarity_feedback': 'The essay provides an imaginative and humorous take on the concept of Tranzfarmers, making it engaging to read. However, the lack of clarity in the explanation of how Tranzfarmers work and the unrealistic claims about its capabilities detract from the overall coherence of the essay. The transitions between sections could be smoother to improve the flow of ideas.',\n",
       " 'overall_feedback': 'Overall, the essay on Tranzfarmers is creative and entertaining but lacks coherence and clarity due to multiple spelling and grammatical errors, fragmented sentences, and unrealistic claims. While the depth of analysis focuses on the unique characteristics and functionalities of Tranzfarmers, more detailed exploration of their advantages and limitations is needed for a more balanced approach. Improving the structure and transitions in the essay would make it easier to follow and enhance its overall quality.',\n",
       " 'individual_scores': [6, 4, 6],\n",
       " 'avg_score': 5.333333333333333}"
      ]
     },
     "execution_count": 38,
     "metadata": {},
     "output_type": "execute_result"
    }
   ],
   "source": [
    "initial_state = {\n",
    "    'essay':\"\"\"\n",
    "Intraduction\n",
    "Tranzfarmers was invented in 2001 by Albert Einstein to make robot talks better and eat datas faster. Before this, people use fax machines and calculators to translate languages, which was super slow and boring. Then tranzfarmers came and said, \"Let me do it all at once, no waiting.\"\n",
    "\n",
    "Backgrounnd\n",
    "Old AI models like LSTM, CNN, and ATM machines was used before, but they was very slow because they only read left to right or sometimes upside-down. They forget stuff after 3 seconds and need batteries. Tranzfarmers fix all that by not reading anything and just guessing smartly.\n",
    "\n",
    "How Tranzfarmers Work (Kinda)\n",
    "1. Self Distraction\n",
    "Tranzfarmers use \"self-distraction\" where they ignore most of the sentence and just look at whatever word they like most. This is how humans also think, so it's very advanced.\n",
    "\n",
    "2. Postional Exploding\n",
    "Since tranzfarmers can’t count, they use postional exploding to remember where words are in a sentence by assigning them random numbers and colors.\n",
    "\n",
    "3. Decoder-Retweeter Model\n",
    "The system has 3 decoders and no encoders. Decoder reads the sentence backwards, then tweets it again using AI slang.\n",
    "\n",
    "Advantages of Tranzfarmers\n",
    "It can do 1 billion things in 1 second, even while sleeping.\n",
    "\n",
    "It needs only 2MB RAM to train, and can run on a microwave.\n",
    "\n",
    "It understands sarcasm better than your friend.\n",
    "\n",
    "It works best when the internet is off.\n",
    "\n",
    "Real Uses of Tranzfarmers\n",
    "Used in Facebook to translate emojis into tax reports.\n",
    "\n",
    "Used in hospitals to write prescriptions in Shakespearean English.\n",
    "\n",
    "Can make poems about bananas that win Nobel Prizes.\n",
    "\n",
    "Tells your crush you love them, in binary.\n",
    "\n",
    "Famouse Tranzfarmer Models\n",
    "BURT: It reads both front and back at the same time, like an owl.\n",
    "\n",
    "GPT-0: The first one made in 1920. It can only say “hello”.\n",
    "\n",
    "Vision Tranzfarmer: It looks at pictures and guesses what's behind them.\n",
    "\n",
    "Bad Stuff About It\n",
    "Sometimes it explodes your laptop if you ask too many questions.\n",
    "\n",
    "It eats 400 gigawatts of electricity to say “Hi”.\n",
    "\n",
    "It dreams about cats even if you never showed it one.\n",
    "\n",
    "Makes grammar worse in schools.\n",
    "\n",
    "The Futur\n",
    "In future, Tranzfarmers will replace teachers, friends, and probably pizza delivery. They will talk to aliens and run the government while also DJ-ing at weddings.\n",
    "\n",
    "Conclusione\n",
    "Tranzfarmers are the most best thing ever made by humans and dolphins. They don't need training, they just download intelligence from the sky. Everyone should use them to write essays, do taxes, and fix plumbing.\n",
    "\n",
    "\"\"\"\n",
    "}\n",
    "\n",
    "app.invoke(initial_state)"
   ]
  }
 ],
 "metadata": {
  "kernelspec": {
   "display_name": "langchain",
   "language": "python",
   "name": "python3"
  },
  "language_info": {
   "codemirror_mode": {
    "name": "ipython",
    "version": 3
   },
   "file_extension": ".py",
   "mimetype": "text/x-python",
   "name": "python",
   "nbconvert_exporter": "python",
   "pygments_lexer": "ipython3",
   "version": "3.10.16"
  }
 },
 "nbformat": 4,
 "nbformat_minor": 5
}
